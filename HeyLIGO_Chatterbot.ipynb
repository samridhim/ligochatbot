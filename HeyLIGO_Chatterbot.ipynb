{
 "cells": [
  {
   "cell_type": "code",
   "execution_count": 10,
   "metadata": {
    "collapsed": false
   },
   "outputs": [],
   "source": [
    "# -*- coding: utf-8 -*-\n",
    "\n",
    "# install using pip \n",
    "\n",
    "# http://chatterbot.readthedocs.io/en/stable/index.html\n",
    "#!pip install chatterbot\n",
    "\n",
    "\n",
    "# Task: Use conversations from these Reddit links to train the chat bot. \n",
    "# Reddit Links\n",
    "# https://www.reddit.com/r/IAmA/comments/45g8qu/we_are_the_ligo_scientific_collaboration_and_we/\n",
    "\n",
    "\n"
   ]
  },
  {
   "cell_type": "code",
   "execution_count": 11,
   "metadata": {
    "collapsed": false
   },
   "outputs": [],
   "source": [
    "from chatterbot import ChatBot\n",
    "chatbot = ChatBot(\"Nikhil\")"
   ]
  },
  {
   "cell_type": "code",
   "execution_count": 12,
   "metadata": {
    "collapsed": false
   },
   "outputs": [
    {
     "name": "stdout",
     "output_type": "stream",
     "text": [
      "List Trainer: [####################] 100%\n"
     ]
    }
   ],
   "source": [
    "# Train with manual Q&A\n",
    "\n",
    "from chatterbot.trainers import ListTrainer\n",
    "\n",
    "conversation2 = [\n",
    "    \"Hello\",\n",
    "    \"Hi there!\",\n",
    "    \"How are you doing?\",\n",
    "    \"I'm doing great.\",\n",
    "    \"Good Morning\",\n",
    "    \"Morning\",\n",
    "    \"What is LIGO?\",\n",
    "    \"LIGO stands for Laser Interferomter Gravitational Wave Observatory\",\n",
    "    \"When is LIGO India coming up?\",\n",
    "    \"It will be ready by 2024\",\n",
    "    \"What is PSL?\",\n",
    "    \"PSL stands for Pre-Stabilized Laser\",\n",
    "    \"That is good to hear\",\n",
    "    \"Thank you.\",\n",
    "    \"What were your first thoughts when you realized you had made such a huge discovery?\",\n",
    "    \"We did not believe it. It was weeks before we believed it. At first we all thought that it was an injected signal of some sort.\"\n",
    "    ]\n",
    "\n",
    "chatbot.set_trainer(ListTrainer)\n",
    "chatbot.train(conversation2)\n",
    "\n"
   ]
  },
  {
   "cell_type": "code",
   "execution_count": 13,
   "metadata": {
    "collapsed": false
   },
   "outputs": [
    {
     "name": "stdout",
     "output_type": "stream",
     "text": [
      "110\n",
      "List Trainer: [####################] 100%\n"
     ]
    }
   ],
   "source": [
    "# Train with Reddit Q&A\n",
    "\n",
    "import requests \n",
    "import json\n",
    "import pprint\n",
    "conversation = []\n",
    "f = open('data.txt','w')\n",
    "f1 = open('replies.txt', 'w')\n",
    "r = requests.get('https://www.reddit.com/r/IAmA/comments/45g8qu/we_are_the_ligo_scientific_collaboration_and_we/.json?t=all&limit=500', headers = {'User-agent': 'Chrome'})\n",
    "theJSON = json.loads(r.text)[1]\n",
    "data = (theJSON['data']['children'])\n",
    "print len(data)\n",
    "\n",
    "\n",
    "for d in data:\n",
    "\tcomm = (d['data'])\n",
    "\tif(len(comm)==47):\n",
    "\t\tf.write(\"Question : \" + comm['body'].encode('utf-8') + \"\\n\\n\")\n",
    "\t\tconversation.append(comm['body'])\n",
    "\t\tif(type(comm['replies'])==dict):\n",
    "\t\t\trr = comm['replies']\n",
    "\t\t\tdd = rr['data']['children']\n",
    "\t\t\tfor ddd in dd:\n",
    "\t\t\t\tcount =0\n",
    "\t\t\t\trepl = ddd['data']\n",
    "\t\t\t\tif(len(repl)==47):\n",
    "\t\t\t\t\tf.write(\"Answer : \"+ repl['body'].encode('utf-8') + \"\\n\\n\")\n",
    "\t\t\t\t\tconversation.append(repl['body'])\n",
    "\t\t\t\t\tbreak;\n",
    "f.close()\n",
    "\n",
    "chatbot.train(conversation)"
   ]
  },
  {
   "cell_type": "code",
   "execution_count": 16,
   "metadata": {
    "collapsed": false
   },
   "outputs": [
    {
     "ename": "TypeError",
     "evalue": "'str' object is not callable",
     "output_type": "error",
     "traceback": [
      "\u001b[0;31m---------------------------------------------------------------------------\u001b[0m",
      "\u001b[0;31mTypeError\u001b[0m                                 Traceback (most recent call last)",
      "\u001b[0;32m<ipython-input-16-57efbd46cac1>\u001b[0m in \u001b[0;36m<module>\u001b[0;34m()\u001b[0m\n\u001b[1;32m      1\u001b[0m \u001b[0;32mfrom\u001b[0m \u001b[0mchatterbot\u001b[0m\u001b[0;34m.\u001b[0m\u001b[0mtrainers\u001b[0m \u001b[0;32mimport\u001b[0m \u001b[0mChatterBotCorpusTrainer\u001b[0m\u001b[0;34m\u001b[0m\u001b[0m\n\u001b[1;32m      2\u001b[0m \u001b[0mchatbot\u001b[0m\u001b[0;34m.\u001b[0m\u001b[0mset_trainer\u001b[0m\u001b[0;34m(\u001b[0m\u001b[0mChatterBotCorpusTrainer\u001b[0m\u001b[0;34m)\u001b[0m\u001b[0;34m\u001b[0m\u001b[0m\n\u001b[0;32m----> 3\u001b[0;31m \u001b[0mchatbot\u001b[0m\u001b[0;34m.\u001b[0m\u001b[0mset_trainer\u001b[0m\u001b[0;34m(\u001b[0m\u001b[0;34m\"chatterbot.corpus.english\"\u001b[0m\u001b[0;34m)\u001b[0m\u001b[0;34m\u001b[0m\u001b[0m\n\u001b[0m",
      "\u001b[0;32m/home/nikhil/anaconda2/lib/python2.7/site-packages/chatterbot/chatterbot.pyc\u001b[0m in \u001b[0;36mset_trainer\u001b[0;34m(self, training_class, **kwargs)\u001b[0m\n\u001b[1;32m    161\u001b[0m         \u001b[0;34m:\u001b[0m\u001b[0mparam\u001b[0m\u001b[0;31m \u001b[0m\u001b[0;31m\\\u001b[0m\u001b[0;34m**\u001b[0m\u001b[0mkwargs\u001b[0m\u001b[0;34m:\u001b[0m \u001b[0mAny\u001b[0m \u001b[0mparameters\u001b[0m \u001b[0mthat\u001b[0m \u001b[0mshould\u001b[0m \u001b[0mbe\u001b[0m \u001b[0mpassed\u001b[0m \u001b[0mto\u001b[0m \u001b[0mthe\u001b[0m \u001b[0mtraining\u001b[0m \u001b[0;32mclass\u001b[0m\u001b[0;34m.\u001b[0m\u001b[0;34m\u001b[0m\u001b[0m\n\u001b[1;32m    162\u001b[0m         \"\"\"\n\u001b[0;32m--> 163\u001b[0;31m         \u001b[0mself\u001b[0m\u001b[0;34m.\u001b[0m\u001b[0mtrainer\u001b[0m \u001b[0;34m=\u001b[0m \u001b[0mtraining_class\u001b[0m\u001b[0;34m(\u001b[0m\u001b[0mself\u001b[0m\u001b[0;34m.\u001b[0m\u001b[0mstorage\u001b[0m\u001b[0;34m,\u001b[0m \u001b[0;34m**\u001b[0m\u001b[0mkwargs\u001b[0m\u001b[0;34m)\u001b[0m\u001b[0;34m\u001b[0m\u001b[0m\n\u001b[0m\u001b[1;32m    164\u001b[0m \u001b[0;34m\u001b[0m\u001b[0m\n\u001b[1;32m    165\u001b[0m     \u001b[0;34m@\u001b[0m\u001b[0mproperty\u001b[0m\u001b[0;34m\u001b[0m\u001b[0m\n",
      "\u001b[0;31mTypeError\u001b[0m: 'str' object is not callable"
     ]
    }
   ],
   "source": [
    "from chatterbot.trainers import ChatterBotCorpusTrainer\n",
    "chatbot.set_trainer(ChatterBotCorpusTrainer)\n",
    "chatbot.set_trainer(\"chatterbot.corpus.english\")"
   ]
  },
  {
   "cell_type": "code",
   "execution_count": 17,
   "metadata": {
    "collapsed": false
   },
   "outputs": [
    {
     "name": "stdout",
     "output_type": "stream",
     "text": [
      "I can't speak for the data-analysis and astrophysics side of the LSC, but in the control room Python is used to automate the vast majority of the instrument. There are many control loops that must be used to keep the LIGO instruments operating at their optimal sensitivity. However, they can't just all be switched on at once! There is a complicated procedure for switching on all of these loops in the right order with the right feedback gains and so on, and this procedure (as well as many others) are controlled by a software infrastructure written in Python.\n",
      "\n",
      "PJF, research faculty, interferometric sensing and control *Edited initials to distinguish from other PFs\n"
     ]
    }
   ],
   "source": [
    "response = chatbot.get_response(\"role of python in scientific community\")\n",
    "print(response)"
   ]
  },
  {
   "cell_type": "code",
   "execution_count": 18,
   "metadata": {
    "collapsed": false
   },
   "outputs": [
    {
     "name": "stdout",
     "output_type": "stream",
     "text": [
      "It will be ready by 2024\n"
     ]
    }
   ],
   "source": [
    "response = chatbot.get_response(\"When is Indian LIGO coming up\")\n",
    "print(response)"
   ]
  },
  {
   "cell_type": "code",
   "execution_count": 22,
   "metadata": {
    "collapsed": false
   },
   "outputs": [
    {
     "name": "stdout",
     "output_type": "stream",
     "text": [
      "We did not believe it. It was weeks before we believed it. At first we all thought that it was an injected signal of some sort.\n"
     ]
    }
   ],
   "source": [
    "response = chatbot.get_response(\"thoughts about such a huge discovery?\")\n",
    "print(response)"
   ]
  },
  {
   "cell_type": "code",
   "execution_count": 20,
   "metadata": {
    "collapsed": false
   },
   "outputs": [
    {
     "name": "stdout",
     "output_type": "stream",
     "text": [
      "LIGO stands for Laser Interferomter Gravitational Wave Observatory\n"
     ]
    }
   ],
   "source": [
    "response = chatbot.get_response(\" what is sigma ?\")\n",
    "print(response)"
   ]
  },
  {
   "cell_type": "code",
   "execution_count": 88,
   "metadata": {
    "collapsed": false
   },
   "outputs": [
    {
     "name": "stdout",
     "output_type": "stream",
     "text": [
      "25\n"
     ]
    },
    {
     "data": {
      "text/plain": [
       "u'The trick is to have your laser beam illuminate ~10^24 atoms on the surface of the mirror. The coherent reflection is an average over 10^24 atoms, so the fluctuations are down by 1/sqrt(that) = 10^-12 of the size of an atom. Averaging saves the day! - AlanW'"
      ]
     },
     "execution_count": 88,
     "metadata": {},
     "output_type": "execute_result"
    }
   ],
   "source": [
    "\n",
    "i = i+1\n",
    "print(i)\n",
    "conversation[i]"
   ]
  },
  {
   "cell_type": "code",
   "execution_count": 21,
   "metadata": {
    "collapsed": false
   },
   "outputs": [
    {
     "ename": "UnicodeEncodeError",
     "evalue": "'ascii' codec can't encode character u'\\u2019' in position 624: ordinal not in range(128)",
     "output_type": "error",
     "traceback": [
      "\u001b[0;31m---------------------------------------------------------------------------\u001b[0m",
      "\u001b[0;31mUnicodeEncodeError\u001b[0m                        Traceback (most recent call last)",
      "\u001b[0;32m<ipython-input-21-6ed40b39e78d>\u001b[0m in \u001b[0;36m<module>\u001b[0;34m()\u001b[0m\n\u001b[1;32m      1\u001b[0m \u001b[0;31m#conversation[10]\u001b[0m\u001b[0;34m\u001b[0m\u001b[0;34m\u001b[0m\u001b[0m\n\u001b[1;32m      2\u001b[0m \u001b[0mresponse\u001b[0m \u001b[0;34m=\u001b[0m \u001b[0mchatbot\u001b[0m\u001b[0;34m.\u001b[0m\u001b[0mget_response\u001b[0m\u001b[0;34m(\u001b[0m\u001b[0;34m\"How is that small change amplified so much to be measurable?\"\u001b[0m\u001b[0;34m)\u001b[0m\u001b[0;34m\u001b[0m\u001b[0m\n\u001b[0;32m----> 3\u001b[0;31m \u001b[0;32mprint\u001b[0m\u001b[0;34m(\u001b[0m\u001b[0mresponse\u001b[0m\u001b[0;34m)\u001b[0m\u001b[0;34m\u001b[0m\u001b[0m\n\u001b[0m",
      "\u001b[0;31mUnicodeEncodeError\u001b[0m: 'ascii' codec can't encode character u'\\u2019' in position 624: ordinal not in range(128)"
     ]
    }
   ],
   "source": [
    "#conversation[10]\n",
    "response = chatbot.get_response(\"How is that small change amplified so much to be measurable?\")\n",
    "print(response)"
   ]
  },
  {
   "cell_type": "code",
   "execution_count": 1,
   "metadata": {
    "collapsed": true
   },
   "outputs": [
    {
     "name": "stderr",
     "output_type": "stream",
     "text": [
      "/anaconda2/lib/python2.7/site-packages/h5py/__init__.py:36: FutureWarning: Conversion of the second argument of issubdtype from `float` to `np.floating` is deprecated. In future, it will be treated as `np.float64 == np.dtype(float).type`.\n",
      "  from ._conv import register_converters as _register_converters\n"
     ]
    },
    {
     "name": "stdout",
     "output_type": "stream",
     "text": [
      "                                              ..-\n",
      "    PyKat 1.1.269         _                  '(\n",
      "                          \\`.|\\.__...-\"\"\"\"-_.\" )\n",
      "       ..+-----.._        /  ' `            .-'\n",
      "   . '            `:      7/* _/._\\    \\   (\n",
      "  (        '::;;+;;:      `-\"' =\" /,`\"\" `) /\n",
      "  L.        \\`:::a:f            c_/     n_'\n",
      "  ..`--...___`.  .    ,\n",
      "   `^-....____:   +.      www.gwoptics.org/pykat\n",
      "\n"
     ]
    }
   ],
   "source": [
    "import pykat"
   ]
  },
  {
   "cell_type": "code",
   "execution_count": null,
   "metadata": {},
   "outputs": [],
   "source": []
  }
 ],
 "metadata": {
  "anaconda-cloud": {},
  "kernelspec": {
   "display_name": "Python 2",
   "language": "python",
   "name": "python2"
  },
  "language_info": {
   "codemirror_mode": {
    "name": "ipython",
    "version": 2
   },
   "file_extension": ".py",
   "mimetype": "text/x-python",
   "name": "python",
   "nbconvert_exporter": "python",
   "pygments_lexer": "ipython2",
   "version": "2.7.14"
  }
 },
 "nbformat": 4,
 "nbformat_minor": 2
}
