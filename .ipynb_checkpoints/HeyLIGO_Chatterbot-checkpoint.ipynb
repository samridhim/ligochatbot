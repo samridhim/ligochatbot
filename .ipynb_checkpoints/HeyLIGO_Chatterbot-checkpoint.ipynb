{
 "cells": [
  {
   "cell_type": "code",
   "execution_count": 1,
   "metadata": {
    "collapsed": false
   },
   "outputs": [],
   "source": [
    "# -*- coding: utf-8 -*-\n",
    "\n",
    "# install using pip \n",
    "\n",
    "# http://chatterbot.readthedocs.io/en/stable/index.html\n",
    "#!pip install chatterbot\n",
    "\n",
    "\n",
    "# Task: Use conversations from these Reddit links to train the chat bot. \n",
    "# Reddit Links\n",
    "# https://www.reddit.com/r/IAmA/comments/45g8qu/we_are_the_ligo_scientific_collaboration_and_we/\n",
    "\n",
    "\n"
   ]
  },
  {
   "cell_type": "code",
   "execution_count": 2,
   "metadata": {
    "collapsed": false
   },
   "outputs": [],
   "source": [
    "from chatterbot import ChatBot\n",
    "chatbot = ChatBot(\"Nikhil\")"
   ]
  },
  {
   "cell_type": "code",
   "execution_count": 6,
   "metadata": {
    "collapsed": false
   },
   "outputs": [
    {
     "name": "stdout",
     "output_type": "stream",
     "text": [
      "List Trainer: [####################] 100%\n"
     ]
    }
   ],
   "source": [
    "from chatterbot.trainers import ListTrainer\n",
    "\n",
    "conversation = [\n",
    "    \"Hello\",\n",
    "    \"Hi there!\",\n",
    "    \"How are you doing?\",\n",
    "    \"I'm doing great.\",\n",
    "    \"Good Morning\",\n",
    "    \"Morning\",\n",
    "    \"What is LIGO?\",\n",
    "    \"LIGO stands for Laser Interferomter Gravitational Wave Observatory\",\n",
    "    \"When is LIGO India coming up?\",\n",
    "    \"It will be ready by 2024\",\n",
    "    \"What is PSL?\",\n",
    "    \"PSL stands for Pre-Stabilized Laser\",\n",
    "    \"That is good to hear\",\n",
    "    \"Thank you.\",\n",
    "    \"What were your first thoughts when you realized you had made such a huge discovery?\",\n",
    "    \"We did not believe it. It was weeks before we believed it. At first we all thought that it was an injected signal of some sort.\"\n",
    "    ]\n",
    "\n",
    "chatbot.set_trainer(ListTrainer)\n",
    "chatbot.train(conversation)"
   ]
  },
  {
   "cell_type": "code",
   "execution_count": 8,
   "metadata": {
    "collapsed": false
   },
   "outputs": [
    {
     "name": "stdout",
     "output_type": "stream",
     "text": [
      "Fuck you too :D\n"
     ]
    }
   ],
   "source": [
    "response = chatbot.get_response(\"explain PSL\")\n",
    "print(response)"
   ]
  },
  {
   "cell_type": "code",
   "execution_count": 5,
   "metadata": {
    "collapsed": false
   },
   "outputs": [
    {
     "name": "stdout",
     "output_type": "stream",
     "text": [
      "It will be ready by 2024\n"
     ]
    }
   ],
   "source": [
    "response = chatbot.get_response(\"When is Indian LIGO coming up\")\n",
    "print(response)"
   ]
  },
  {
   "cell_type": "code",
   "execution_count": 9,
   "metadata": {
    "collapsed": false
   },
   "outputs": [
    {
     "name": "stdout",
     "output_type": "stream",
     "text": [
      "We did not believe it. It was weeks before we believed it. At first we all thought that it was an injected signal of some sort.\n"
     ]
    }
   ],
   "source": [
    "response = chatbot.get_response(\"thoughts about such a huge discovery?\")\n",
    "print(response)"
   ]
  },
  {
   "cell_type": "code",
   "execution_count": null,
   "metadata": {
    "collapsed": true
   },
   "outputs": [],
   "source": []
  }
 ],
 "metadata": {
  "anaconda-cloud": {},
  "kernelspec": {
   "display_name": "Python [conda root]",
   "language": "python",
   "name": "conda-root-py"
  },
  "language_info": {
   "codemirror_mode": {
    "name": "ipython",
    "version": 2
   },
   "file_extension": ".py",
   "mimetype": "text/x-python",
   "name": "python",
   "nbconvert_exporter": "python",
   "pygments_lexer": "ipython2",
   "version": "2.7.12"
  }
 },
 "nbformat": 4,
 "nbformat_minor": 1
}
