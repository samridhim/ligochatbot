{
 "cells": [
  {
   "cell_type": "code",
   "execution_count": 11,
   "metadata": {
    "collapsed": true
   },
   "outputs": [],
   "source": [
    "# -*- coding: utf-8 -*-\n",
    "\n",
    "# install using pip \n",
    "\n",
    "# http://chatterbot.readthedocs.io/en/stable/index.html\n",
    "#!pip install chatterbot\n",
    "\n",
    "\n",
    "# Task: Use conversations from these Reddit links to train the chat bot. \n",
    "# Reddit Links\n",
    "# https://www.reddit.com/r/IAmA/comments/45g8qu/we_are_the_ligo_scientific_collaboration_and_we/\n",
    "\n",
    "\n"
   ]
  },
  {
   "cell_type": "code",
   "execution_count": 13,
   "metadata": {},
   "outputs": [
    {
     "name": "stdout",
     "output_type": "stream",
     "text": [
      "110\n"
     ]
    }
   ],
   "source": [
    "import requests \n",
    "import json\n",
    "import pprint\n",
    "conversation = []\n",
    "f = open('data.txt','w')\n",
    "f1 = open('replies.txt', 'w')\n",
    "r = requests.get('https://www.reddit.com/r/IAmA/comments/45g8qu/we_are_the_ligo_scientific_collaboration_and_we/.json?t=all&limit=500', headers = {'User-agent': 'Chrome'})\n",
    "theJSON = json.loads(r.text)[1]\n",
    "data = (theJSON['data']['children'])\n",
    "print len(data)\n",
    "for d in data:\n",
    "\tcomm = (d['data'])\n",
    "\tif(len(comm)==47):\n",
    "\t\tf.write(\"Question : \" + comm['body'].encode('utf-8') + \"\\n\\n\")\n",
    "\t\tconversation.append(comm['body'])\n",
    "\t\tif(type(comm['replies'])==dict):\n",
    "\t\t\trr = comm['replies']\n",
    "\t\t\tdd = rr['data']['children']\n",
    "\t\t\tfor ddd in dd:\n",
    "\t\t\t\tcount =0\n",
    "\t\t\t\trepl = ddd['data']\n",
    "\t\t\t\tif(len(repl)==47):\n",
    "\t\t\t\t\tf.write(\"Answer : \"+ repl['body'].encode('utf-8') + \"\\n\\n\")\n",
    "\t\t\t\t\tconversation.append(repl['body'])\n",
    "\t\t\t\t\tbreak;\n",
    "f.close()"
   ]
  },
  {
   "cell_type": "code",
   "execution_count": 8,
   "metadata": {},
   "outputs": [
    {
     "name": "stdout",
     "output_type": "stream",
     "text": [
      "593\n"
     ]
    }
   ],
   "source": [
    "import praw\n",
    "from praw.models import MoreComments\n",
    "f = open('data.txt','w')\n",
    "conversation = []\n",
    "reddit = praw.Reddit(user_agent='Comment Extraction (by /u/sam_ridhi)',\n",
    "\t\t\t\t\tclient_id=\"pjfZezpVM3MipA\", client_secret = \"n-QRDWWiA99x0TZ46K-8v7ciJFg\")\n",
    "submission = reddit.submission(url='https://www.reddit.com/r/IAmA/comments/45g8qu/we_are_the_ligo_scientific_collaboration_and_we/')\n",
    "submission.comments.replace_more(limit =2000)\n",
    "count =0\n",
    "for top_level_comment in submission.comments:\n",
    "\tf.write(\"Question :\"  + top_level_comment.body.encode('utf-8') + \"\\n\\n\")\n",
    "\tcount = count +1\t\n",
    "\tconversation.append(top_level_comment.body.encode('utf-8'))\n",
    "\tif(len(top_level_comment.replies)==0):\n",
    "\t\tconversation.append(\"\")\n",
    "\telse: \n",
    "\t\tfor second_level_comment in top_level_comment.replies:\n",
    "\t\t\tf.write(\"Answer :\"  + second_level_comment.body.encode('utf-8') + \"\\n\\n\")\n",
    "\t\t\tconversation.append(second_level_comment.body.encode('utf-8'))\n",
    "\t\t\tbreak;\n",
    "print count\n",
    "f.close()\n"
   ]
  },
  {
   "cell_type": "code",
   "execution_count": 2,
   "metadata": {
    "collapsed": true
   },
   "outputs": [],
   "source": [
    "from chatterbot import ChatBot\n",
    "chatbot = ChatBot(\"Nikhil\")"
   ]
  },
  {
   "cell_type": "code",
   "execution_count": 6,
   "metadata": {},
   "outputs": [
    {
     "name": "stdout",
     "output_type": "stream",
     "text": [
      "List Trainer: [####################] 100%\n"
     ]
    }
   ],
   "source": [
    "from chatterbot.trainers import ListTrainer\n",
    "chatbot.set_trainer(ListTrainer)\n",
    "chatbot.train(conversation)"
   ]
  },
  {
   "cell_type": "code",
   "execution_count": 9,
   "metadata": {},
   "outputs": [
    {
     "name": "stdout",
     "output_type": "stream",
     "text": [
      "They don't, really - not in the way you would expect light or radio waves to interact with matter. They pass through everything, stretching the space they are in slightly in the process. \n",
      "\n",
      "-JS /PhD student, high power laser development, Hannover/Germany\n"
     ]
    }
   ],
   "source": [
    "response = chatbot.get_response(\"gravitational waves interact with matter?\")\n",
    "print(response)"
   ]
  },
  {
   "cell_type": "code",
   "execution_count": 10,
   "metadata": {},
   "outputs": [
    {
     "name": "stdout",
     "output_type": "stream",
     "text": [
      "This is my favourite question! \n",
      "\n",
      "1. The GWs from Inflation [for most of the Inflationary models!] are at very low frequencies. So, if you are talking about interference of those with GWs from compact objects (such as BHs, NSs) - which is possible, we may see some modulation [from interference] in frequency as well as amplitude domain. However, the predicted GWs from Inflation are at very very low amplitudes as well (besides the low frequency!), roughly in the 1.0e-30 - 1.0e-27 range. This makes them really hard to separate by de-modulation, in frequency as well as amplitude.\n",
      "\n",
      "2. If you are wondering about emission of GWs from Inflation, we are not currently able to detect those because of their extremely small amplitudes. Also, at low frequencies of primordial GWs (from Inflation), Seismic noise in ground-based detectors is overwhelming. We will have to wait for eLISA to sort out the primordial GWs. However, it is possible to see their effect on CMB (Cosmic Microwave Background) photons' polarisations, which is what BICEP2 was trying to accomplish.\n",
      "\n",
      "3. One could argue if there are Inflationary models which predict louder Primordial GWs. A: We haven't see any such stochastic background, if it is loud enough. B: Models predicting loud GW emissions are currently ruled out by Planck mission results [CMB].\n",
      "\n",
      "-- AvneetSingh, Observational Cosmology and Astrophysics, LIGO &amp; Max-Planck-Institut\n"
     ]
    }
   ],
   "source": [
    "response = chatbot.get_response(\"gravitional waves inflation\")\n",
    "print(response)"
   ]
  },
  {
   "cell_type": "code",
   "execution_count": 19,
   "metadata": {},
   "outputs": [
    {
     "name": "stdout",
     "output_type": "stream",
     "text": [
      "We did not believe it. It was weeks before we believed it. At first we all thought that it was an injected signal of some sort.\n"
     ]
    }
   ],
   "source": [
    "response = chatbot.get_response(\"first thoughts after making such a huge discovery?\")\n",
    "print(response)"
   ]
  },
  {
   "cell_type": "code",
   "execution_count": 20,
   "metadata": {},
   "outputs": [
    {
     "name": "stdout",
     "output_type": "stream",
     "text": [
      "LIGO stands for Laser Interferomter Gravitational Wave Observatory\n"
     ]
    }
   ],
   "source": [
    "response = chatbot.get_response(\"LIGO???\")\n",
    "print(response)"
   ]
  },
  {
   "cell_type": "code",
   "execution_count": 10,
   "metadata": {},
   "outputs": [
    {
     "name": "stdout",
     "output_type": "stream",
     "text": [
      "Myself and one of my supervisors had a conversation about this a few weeks ago. We did some calculations which suggest that if you were in a space-ship close to the merging black holes you would feel a force which was pretty comparable to the force you feel by standing next to a loudspeaker at a music concert. You'd feel a vibration travelling through your body, but we were pretty confident it wouldn't hurt you! \n",
      "\n",
      "-- DW (I work on burst [transient events] searches, and I'm at the University of Glasgow, Scotland)\n"
     ]
    }
   ],
   "source": [
    "response = chatbot.get_response(\"if a gravitational wave was powerful enough, would a human be able to feel/experience it going through them?\")\n",
    "print response"
   ]
  },
  {
   "cell_type": "code",
   "execution_count": 12,
   "metadata": {},
   "outputs": [
    {
     "name": "stdout",
     "output_type": "stream",
     "text": [
      "Not yet!  Everything about this first detection falls in line with our expectations from what we know about physics.  The rate at which binary black holes form in nature and the masses of the binary black holes are consistent with theoretical predictions (mostly because those predictions were *very* broad).  And the signal itself matches what we expect from general relativity to as-well-as-we-can-measure for this event.  We will be watching future events very careful for any departures from theory.  That is when the *real* fun begins.  --TBL\n"
     ]
    }
   ],
   "source": [
    "response = chatbot.get_response(\"re-calculations of existing physics ‘canon’\")\n",
    "print response"
   ]
  },
  {
   "cell_type": "code",
   "execution_count": 11,
   "metadata": {},
   "outputs": [
    {
     "name": "stdout",
     "output_type": "stream",
     "text": [
      "Einstein@Home actually help us analyse our data! They are based right here in Hannover, and the algorithms used are written by our data analysts. \n",
      "\n",
      "Justus S, PhD student developing high power lasers, Hannover, Germany\n"
     ]
    }
   ],
   "source": [
    "response = chatbot.get_response(\"What do you guys think of efforts such as Einstein@home?\")\n",
    "print response"
   ]
  },
  {
   "cell_type": "code",
   "execution_count": 12,
   "metadata": {},
   "outputs": [
    {
     "name": "stdout",
     "output_type": "stream",
     "text": [
      "Look at this great wikipedia article https://en.wikipedia.org/wiki/Gravitational_wave for more details on gravitational waves. DS\n"
     ]
    }
   ],
   "source": [
    "response = chatbot.get_response(\"What are gravitational waves, why is the discovery important?\")\n",
    "print response"
   ]
  },
  {
   "cell_type": "code",
   "execution_count": null,
   "metadata": {
    "collapsed": true
   },
   "outputs": [],
   "source": []
  }
 ],
 "metadata": {
  "anaconda-cloud": {},
  "kernelspec": {
   "display_name": "Python 2",
   "language": "python",
   "name": "python2"
  },
  "language_info": {
   "codemirror_mode": {
    "name": "ipython",
    "version": 2
   },
   "file_extension": ".py",
   "mimetype": "text/x-python",
   "name": "python",
   "nbconvert_exporter": "python",
   "pygments_lexer": "ipython2",
   "version": "2.7.14"
  }
 },
 "nbformat": 4,
 "nbformat_minor": 1
}
