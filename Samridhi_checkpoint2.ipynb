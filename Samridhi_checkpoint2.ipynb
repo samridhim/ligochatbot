{
 "cells": [
  {
   "cell_type": "code",
   "execution_count": 1,
   "metadata": {
    "collapsed": true
   },
   "outputs": [],
   "source": [
    "#Chatterbot implementation with 3 reddit AMA's (Around 700 question/answers) and using PRAW for scraping comments."
   ]
  },
  {
   "cell_type": "code",
   "execution_count": 66,
   "metadata": {
    "collapsed": false
   },
   "outputs": [],
   "source": [
    "#importing praw and opening file \n",
    "import praw\n",
    "import time\n",
    "from flask import Flask, render_template, request\n",
    "from praw.models import MoreComments\n",
    "f = open('data22.txt','w')"
   ]
  },
  {
   "cell_type": "code",
   "execution_count": null,
   "metadata": {
    "collapsed": true
   },
   "outputs": [],
   "source": [
    "#authorising the application to use praw\n",
    "t0 = time.time()\n",
    "reddit = praw.Reddit(user_agent='Comment Extraction (by /u/sam_ridhi)',client_id=\"pjfZezpVM3MipA\", client_secret = \"n-QRDWWiA99x0TZ46K-8v7ciJFg\")\n",
    "url = ['https://www.reddit.com/r/IAmA/comments/4odza8/we_are_the_ligo_scientific_collaboration_and_the/','https://www.reddit.com/r/science/comments/2vrcdm/science_ama_series_were_scientists_of_the_ligo/', 'https://www.reddit.com/r/IAmA/comments/45g8qu/we_are_the_ligo_scientific_collaboration_and_we','https://www.reddit.com/r/science/comments/6fekz5/science_ama_series_we_are_the_ligo_scientific/']"
   ]
  },
  {
   "cell_type": "code",
   "execution_count": 68,
   "metadata": {
    "collapsed": false
   },
   "outputs": [
    {
     "name": "stdout",
     "output_type": "stream",
     "text": [
      "2.805 s\n",
      "9.305 s\n",
      "152.571 s\n",
      "18.319 s\n",
      "1148\n"
     ]
    }
   ],
   "source": [
    "#Chatterbot implementation with 3 reddit AMA's (Around 700 question/answers) and using PRAW for scraping comments.\n",
    "\n",
    "#importing praw and opening file \n",
    "\n",
    "import praw\n",
    "\n",
    "import time\n",
    "\n",
    "from praw.models import MoreComments\n",
    "\n",
    "f = open('data22.txt','w')\n",
    "\n",
    "#authorising the application to use praw\n",
    "\n",
    "t0 = time.time()\n",
    "\n",
    "reddit = praw.Reddit(user_agent='Comment Extraction (by /u/sam_ridhi)',client_id=\"pjfZezpVM3MipA\", client_secret = \"n-QRDWWiA99x0TZ46K-8v7ciJFg\")\n",
    "conversation = []\n",
    "url = ['https://www.reddit.com/r/IAmA/comments/4odza8/we_are_the_ligo_scientific_collaboration_and_the/','https://www.reddit.com/r/science/comments/2vrcdm/science_ama_series_were_scientists_of_the_ligo/', 'https://www.reddit.com/r/IAmA/comments/45g8qu/we_are_the_ligo_scientific_collaboration_and_we','https://www.reddit.com/r/science/comments/6fekz5/science_ama_series_we_are_the_ligo_scientific/'] #for chatterbot\n",
    "count = 0 #number of questions\n",
    "for ur in url:\n",
    "    submission = reddit.submission(url=ur)\n",
    "    submission.comments.replace_more(limit =2000)\n",
    "    for top_level_comment in submission.comments:\n",
    "        f.write(\"Question :\"  + top_level_comment.body.encode('utf-8') + \"\\n\\n\")\n",
    "        count = count +1\t\n",
    "        conversation.append(top_level_comment.body.encode('utf-8'))\n",
    "        if(len(top_level_comment.replies)==0):\n",
    "            conversation.append(\"\")\n",
    "        else: \n",
    "            for second_level_comment in top_level_comment.replies:\n",
    "                f.write(\"Answer :\"  + second_level_comment.body.encode('utf-8') + \"\\n\\n\")\n",
    "                conversation.append(second_level_comment.body.encode('utf-8'))\n",
    "                break;\n",
    "    print round(time.time()-t0, 3),\"s\"\n",
    "    t0 = time.time()\n",
    "print count\n",
    "f.close()"
   ]
  },
  {
   "cell_type": "code",
   "execution_count": 75,
   "metadata": {
    "collapsed": true
   },
   "outputs": [],
   "source": [
    "from chatterbot import ChatBot\n",
    "chatbot = ChatBot(\"LigoBot\", logic_adapters=[\n",
    "        {\n",
    "            \"import_path\": \"chatterbot.logic.BestMatch\"\n",
    "        },\n",
    "         {\n",
    "            'import_path': 'chatterbot.logic.LowConfidenceAdapter',\n",
    "            'threshold': 0.55,\n",
    "            'default_response': 'I am sorry, but I do not understand.'\n",
    "        }\n",
    "    ])"
   ]
  },
  {
   "cell_type": "code",
   "execution_count": 79,
   "metadata": {
    "collapsed": false
   },
   "outputs": [
    {
     "name": "stdout",
     "output_type": "stream",
     "text": [
      "List Trainer: [####################] 100%\n"
     ]
    }
   ],
   "source": [
    "from chatterbot.trainers import ListTrainer\n",
    "chatbot.set_trainer(ListTrainer)\n",
    "chatbot.train(conversation)"
   ]
  },
  {
   "cell_type": "code",
   "execution_count": 77,
   "metadata": {
    "collapsed": false
   },
   "outputs": [
    {
     "name": "stdout",
     "output_type": "stream",
     "text": [
      "List Trainer: [####################] 100%\n",
      "List Trainer: [####################] 100%\n",
      "List Trainer: [####################] 100%\n"
     ]
    }
   ],
   "source": [
    "# Train based on the english corpus\n",
    "chatbot.train(\"chatterbot.corpus.english\")\n",
    "\n",
    "# Train based on english greetings corpus\n",
    "chatbot.train(\"chatterbot.corpus.english.greetings\")\n",
    "\n",
    "# Train based on the english conversations corpus\n",
    "chatbot.train(\"chatterbot.corpus.english.conversations\")\n",
    "\n"
   ]
  },
  {
   "cell_type": "code",
   "execution_count": 78,
   "metadata": {
    "collapsed": false
   },
   "outputs": [
    {
     "name": "stdout",
     "output_type": "stream",
     "text": [
      "ai.yml Training: [####################] 100%\n",
      "botprofile.yml Training: [####################] 100%\n",
      "computers.yml Training: [####################] 100%\n",
      "conversations.yml Training: [####################] 100%\n",
      "emotion.yml Training: [####################] 100%\n",
      "food.yml Training: [####################] 100%\n",
      "gossip.yml Training: [####################] 100%\n",
      "greetings.yml Training: [####################] 100%\n",
      "history.yml Training: [####################] 100%\n",
      "humor.yml Training: [####################] 100%\n",
      "literature.yml Training: [####################] 100%\n",
      "money.yml Training: [####################] 100%\n",
      "movies.yml Training: [####################] 100%\n",
      "politics.yml Training: [####################] 100%\n",
      "psychology.yml Training: [####################] 100%\n",
      "science.yml Training: [####################] 100%\n",
      "sports.yml Training: [####################] 100%\n",
      "trivia.yml Training: [####################] 100%\n"
     ]
    }
   ],
   "source": [
    "# Link : https://github.com/chamkank/flask-chatterbot\n",
    "from chatterbot.trainers import ChatterBotCorpusTrainer\n",
    "chatbot.set_trainer(ChatterBotCorpusTrainer)\n",
    "chatbot.train(\"chatterbot.corpus.english\")"
   ]
  },
  {
   "cell_type": "code",
   "execution_count": 73,
   "metadata": {
    "collapsed": false
   },
   "outputs": [
    {
     "name": "stdout",
     "output_type": "stream",
     "text": [
      "Gravitational waves shrink space in one direction, and stretch space in the perpendicular direction.\n",
      "\n",
      "The common allegory: Gravitational waves propagate through space like ripples in a pond. The ripples won't actually carry anything along with them, but rather pass underneath any object on the surface of the pond and bob it up/down in a weird way. Similarly, gravitational waves path \"through\" us all the time. However, the spatial distortions are so unimaginably small that they have no effect on us.\n"
     ]
    }
   ],
   "source": [
    "response = chatbot.get_response(\"Tell me more about Gravitational Waves\")\n",
    "print response"
   ]
  },
  {
   "cell_type": "code",
   "execution_count": 16,
   "metadata": {
    "collapsed": false
   },
   "outputs": [
    {
     "name": "stdout",
     "output_type": "stream",
     "text": [
      "They don't, really - not in the way you would expect light or radio waves to interact with matter. They pass through everything, stretching the space they are in slightly in the process. \n",
      "\n",
      "-JS /PhD student, high power laser development, Hannover/Germany\n"
     ]
    }
   ],
   "source": [
    "response = chatbot.get_response(\"How does it interact with matter\")\n",
    "print response"
   ]
  },
  {
   "cell_type": "code",
   "execution_count": null,
   "metadata": {
    "collapsed": false
   },
   "outputs": [
    {
     "name": "stderr",
     "output_type": "stream",
     "text": [
      " * Running on http://127.0.0.1:5000/ (Press CTRL+C to quit)\n"
     ]
    },
    {
     "name": "stdout",
     "output_type": "stream",
     "text": [
      "/home/nikhil/Dropbox/HeyLIGO_ChatterBot/flask-chatterbot-master\n"
     ]
    }
   ],
   "source": [
    "# Flask-Chatbot\n",
    "# Link : https://github.com/chamkank/flask-chatterbot\n",
    "'''\n",
    "Requirements\n",
    "Flask>=0.11\n",
    "chatterbot>=0.7.1\n",
    "SQLAlchemy>=1.1.11\n",
    "'''\n",
    "\n",
    "\n",
    "%cd ~/Dropbox/HeyLIGO_ChatterBot/flask-chatterbot-master\n",
    "\n",
    "\n",
    "from flask import Flask, render_template, request\n",
    "from chatterbot import ChatBot\n",
    "from chatterbot.trainers import ChatterBotCorpusTrainer\n",
    "\n",
    "app = Flask(__name__)\n",
    "\n",
    "@app.route(\"/\")\n",
    "def home():\n",
    "    return render_template(\"index.html\")\n",
    "\n",
    "@app.route(\"/get\")\n",
    "def get_bot_response():\n",
    "    userText = request.args.get('msg')\n",
    "    return str(chatbot.get_response(userText))\n",
    "\n",
    "\n",
    "if __name__ == \"__main__\":\n",
    "      app.run()"
   ]
  },
  {
   "cell_type": "code",
   "execution_count": null,
   "metadata": {
    "collapsed": true
   },
   "outputs": [],
   "source": []
  }
 ],
 "metadata": {
  "anaconda-cloud": {},
  "kernelspec": {
   "display_name": "Python [default]",
   "language": "python",
   "name": "python2"
  },
  "language_info": {
   "codemirror_mode": {
    "name": "ipython",
    "version": 2
   },
   "file_extension": ".py",
   "mimetype": "text/x-python",
   "name": "python",
   "nbconvert_exporter": "python",
   "pygments_lexer": "ipython2",
   "version": "2.7.12"
  }
 },
 "nbformat": 4,
 "nbformat_minor": 2
}
